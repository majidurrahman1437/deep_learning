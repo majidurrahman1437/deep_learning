{
 "cells": [
  {
   "cell_type": "code",
   "execution_count": 1,
   "metadata": {},
   "outputs": [
    {
     "name": "stderr",
     "output_type": "stream",
     "text": [
      "Using Theano backend.\n"
     ]
    }
   ],
   "source": [
    "import numpy\n",
    "import pandas\n",
    "from keras.models import Sequential\n",
    "from keras.layers import Dense\n",
    "from keras.wrappers.scikit_learn import KerasClassifier\n",
    "from keras.utils import np_utils\n",
    "from sklearn.model_selection import cross_val_score\n",
    "from sklearn.model_selection import KFold\n",
    "from sklearn.preprocessing import LabelEncoder\n",
    "from sklearn.pipeline import Pipeline"
   ]
  },
  {
   "cell_type": "code",
   "execution_count": 2,
   "metadata": {},
   "outputs": [],
   "source": [
    "# fix random seed for reproducibility\n",
    "seed = 7\n",
    "numpy.random.seed(seed)"
   ]
  },
  {
   "cell_type": "code",
   "execution_count": 3,
   "metadata": {},
   "outputs": [],
   "source": [
    "reduced_url = \"Datasets/MentalHealth/mental-health-in-tech-survey/reducedDataset/survey.csv\"\n",
    "reduced_names = [\"Age\",\"Country\",\"state\",\"family_history\",\"treatment\",\"work_interfere\",\"no_employees\",\"remote_work\",\"benefits\",\"wellness_program\",\"anonymity\",\"leave\",\"phys_health_consequence\",\"coworkers\",\"supervisor\",\"mental_health_interview\",\"phys_health_interview\",\"mental_vs_physical\",\"obs_consequence\",\"mental_health_consequence\"]\n",
    "reduced_dataset = pandas.read_csv(reduced_url, names=reduced_names)"
   ]
  },
  {
   "cell_type": "code",
   "execution_count": 4,
   "metadata": {},
   "outputs": [
    {
     "name": "stdout",
     "output_type": "stream",
     "text": [
      "Age                           int64\n",
      "Country                      object\n",
      "state                        object\n",
      "family_history               object\n",
      "treatment                    object\n",
      "work_interfere               object\n",
      "no_employees                 object\n",
      "remote_work                  object\n",
      "benefits                     object\n",
      "wellness_program             object\n",
      "anonymity                    object\n",
      "leave                        object\n",
      "phys_health_consequence      object\n",
      "coworkers                    object\n",
      "supervisor                   object\n",
      "mental_health_interview      object\n",
      "phys_health_interview        object\n",
      "mental_vs_physical           object\n",
      "obs_consequence              object\n",
      "mental_health_consequence    object\n",
      "dtype: object\n",
      "(1259, 20)\n"
     ]
    }
   ],
   "source": [
    "print(reduced_dataset.dtypes)\n",
    "print(reduced_dataset.shape)"
   ]
  },
  {
   "cell_type": "code",
   "execution_count": 5,
   "metadata": {},
   "outputs": [
    {
     "name": "stdout",
     "output_type": "stream",
     "text": [
      "Index(['Country', 'state', 'family_history', 'treatment', 'work_interfere',\n",
      "       'no_employees', 'remote_work', 'benefits', 'wellness_program',\n",
      "       'anonymity', 'leave', 'phys_health_consequence', 'coworkers',\n",
      "       'supervisor', 'mental_health_interview', 'phys_health_interview',\n",
      "       'mental_vs_physical', 'obs_consequence', 'mental_health_consequence'],\n",
      "      dtype='object')\n"
     ]
    }
   ],
   "source": [
    "obj_columns = reduced_dataset.select_dtypes(['object']).columns\n",
    "print(obj_columns)"
   ]
  },
  {
   "cell_type": "code",
   "execution_count": 6,
   "metadata": {},
   "outputs": [
    {
     "name": "stdout",
     "output_type": "stream",
     "text": [
      "Index(['Country', 'state', 'family_history', 'treatment', 'work_interfere',\n",
      "       'no_employees', 'remote_work', 'benefits', 'wellness_program',\n",
      "       'anonymity', 'leave', 'phys_health_consequence', 'coworkers',\n",
      "       'supervisor', 'mental_health_interview', 'phys_health_interview',\n",
      "       'mental_vs_physical', 'obs_consequence', 'mental_health_consequence'],\n",
      "      dtype='object')\n"
     ]
    }
   ],
   "source": [
    "for col_name in reduced_dataset.columns:\n",
    "    if(reduced_dataset[col_name].dtype == 'object'):\n",
    "        reduced_dataset[col_name]= reduced_dataset[col_name].astype('category')\n",
    "\n",
    "cat_columns = reduced_dataset.select_dtypes(['category']).columns\n",
    "print(cat_columns)"
   ]
  },
  {
   "cell_type": "code",
   "execution_count": 7,
   "metadata": {},
   "outputs": [
    {
     "name": "stdout",
     "output_type": "stream",
     "text": [
      "    Age  Country  state  family_history  treatment  work_interfere  \\\n",
      "0    37       45     11               0          1               2   \n",
      "1    44       45     12               0          0               3   \n",
      "2    32        7      6               0          0               3   \n",
      "3    31       44      6               1          1               2   \n",
      "4    31       45     38               0          0               1   \n",
      "5    33       45     37               1          0               4   \n",
      "6    35       45     19               1          1               4   \n",
      "7    39        7      6               0          0               1   \n",
      "8    42       45     11               1          1               4   \n",
      "9    23        7      6               0          0               1   \n",
      "10   31       45     30               0          1               4   \n",
      "11   29        6      6               0          0               1   \n",
      "12   42       45      2               1          1               4   \n",
      "13   36       45      4               1          0               1   \n",
      "14   27        7      6               0          0               1   \n",
      "15   29       45     11               1          1               3   \n",
      "16   23       44      6               0          1               4   \n",
      "17   32       45     37               0          1               4   \n",
      "18   46       45     17               1          0               4   \n",
      "19   36       15      6               1          0               0   \n",
      "\n",
      "    no_employees  remote_work  benefits  wellness_program  anonymity  leave  \\\n",
      "0              4            0         2                 1          2      2   \n",
      "1              5            0         0                 0          0      0   \n",
      "2              4            0         1                 1          0      1   \n",
      "3              2            0         1                 1          1      1   \n",
      "4              1            1         2                 0          0      0   \n",
      "5              4            0         2                 1          0      0   \n",
      "6              0            1         1                 1          1      1   \n",
      "7              0            1         1                 1          2      0   \n",
      "8              1            0         2                 1          1      3   \n",
      "9              2            0         0                 0          0      0   \n",
      "10             4            1         0                 1          0      0   \n",
      "11             1            1         0                 1          0      0   \n",
      "12             2            0         2                 1          0      1   \n",
      "13             3            0         0                 1          0      0   \n",
      "14             4            0         0                 0          0      2   \n",
      "15             2            0         2                 1          0      2   \n",
      "16             2            1         0                 0          0      4   \n",
      "17             4            0         2                 1          0      0   \n",
      "18             0            1         2                 2          2      4   \n",
      "19             4            1         1                 2          2      2   \n",
      "\n",
      "    phys_health_consequence  coworkers  supervisor  mental_health_interview  \\\n",
      "0                         1          2           2                        1   \n",
      "1                         1          1           0                        1   \n",
      "2                         1          3           2                        2   \n",
      "3                         2          2           0                        0   \n",
      "4                         1          2           2                        2   \n",
      "5                         1          3           2                        1   \n",
      "6                         0          2           0                        1   \n",
      "7                         1          1           0                        1   \n",
      "8                         1          3           2                        1   \n",
      "9                         1          3           2                        0   \n",
      "10                        1          2           2                        1   \n",
      "11                        1          3           2                        2   \n",
      "12                        2          3           2                        0   \n",
      "13                        1          3           2                        1   \n",
      "14                        1          2           1                        0   \n",
      "15                        1          3           1                        0   \n",
      "16                        1          2           0                        0   \n",
      "17                        1          2           2                        1   \n",
      "18                        1          3           2                        1   \n",
      "19                        1          2           1                        0   \n",
      "\n",
      "    phys_health_interview  mental_vs_physical  obs_consequence  \\\n",
      "0                       0                   2                0   \n",
      "1                       1                   0                0   \n",
      "2                       2                   1                0   \n",
      "3                       0                   1                1   \n",
      "4                       2                   0                0   \n",
      "5                       0                   0                0   \n",
      "6                       1                   0                0   \n",
      "7                       1                   1                0   \n",
      "8                       0                   1                0   \n",
      "9                       0                   2                0   \n",
      "10                      1                   0                0   \n",
      "11                      2                   0                0   \n",
      "12                      0                   1                1   \n",
      "13                      1                   0                0   \n",
      "14                      2                   2                0   \n",
      "15                      0                   0                0   \n",
      "16                      0                   1                0   \n",
      "17                      1                   1                0   \n",
      "18                      2                   2                1   \n",
      "19                      0                   0                0   \n",
      "\n",
      "    mental_health_consequence  \n",
      "0                           1  \n",
      "1                           0  \n",
      "2                           1  \n",
      "3                           2  \n",
      "4                           1  \n",
      "5                           1  \n",
      "6                           0  \n",
      "7                           1  \n",
      "8                           0  \n",
      "9                           1  \n",
      "10                          1  \n",
      "11                          1  \n",
      "12                          2  \n",
      "13                          1  \n",
      "14                          1  \n",
      "15                          1  \n",
      "16                          0  \n",
      "17                          0  \n",
      "18                          1  \n",
      "19                          1  \n"
     ]
    }
   ],
   "source": [
    "reduced_dataset[cat_columns] = reduced_dataset[cat_columns].apply(lambda x: x.cat.codes)\n",
    "print(reduced_dataset.head(20))"
   ]
  },
  {
   "cell_type": "code",
   "execution_count": 11,
   "metadata": {},
   "outputs": [],
   "source": [
    "#Split-out validation dataset\n",
    "\n",
    "from sklearn import model_selection\n",
    "reduced_array = reduced_dataset.values\n",
    "reduced_X = reduced_array[:,0:19]\n",
    "reduced_Y = reduced_array[:,19]\n",
    "validation_size = 0.20\n",
    "seed = 7\n",
    "reduced_X_train, reduced_X_validation, reduced_Y_train, reduced_Y_validation = model_selection.train_test_split(reduced_X, reduced_Y, test_size = validation_size, random_state = seed)"
   ]
  },
  {
   "cell_type": "code",
   "execution_count": 12,
   "metadata": {},
   "outputs": [
    {
     "name": "stdout",
     "output_type": "stream",
     "text": [
      "[[0. 1. 0.]\n",
      " [1. 0. 0.]\n",
      " [0. 1. 0.]\n",
      " ...\n",
      " [0. 0. 1.]\n",
      " [0. 0. 1.]\n",
      " [1. 0. 0.]]\n"
     ]
    }
   ],
   "source": [
    "# encode class values as integers\n",
    "encoder = LabelEncoder()\n",
    "encoder.fit(reduced_Y)\n",
    "encoded_Y = encoder.transform(reduced_Y)\n",
    "# convert integers to dummy variables (i.e. one hot encoded)\n",
    "dummy_y = np_utils.to_categorical(encoded_Y)\n",
    "print(dummy_y)"
   ]
  },
  {
   "cell_type": "code",
   "execution_count": 29,
   "metadata": {},
   "outputs": [
    {
     "name": "stdout",
     "output_type": "stream",
     "text": [
      "[1 0 1 ... 2 2 0]\n"
     ]
    }
   ],
   "source": [
    "print(encoded_Y)"
   ]
  },
  {
   "cell_type": "code",
   "execution_count": 15,
   "metadata": {},
   "outputs": [
    {
     "name": "stdout",
     "output_type": "stream",
     "text": [
      "[1 0 1 ... 2 2 0]\n"
     ]
    }
   ],
   "source": [
    "print(reduced_Y)"
   ]
  },
  {
   "cell_type": "code",
   "execution_count": 21,
   "metadata": {},
   "outputs": [],
   "source": [
    "# define baseline model\n",
    "def baseline_model():\n",
    "    # create model\n",
    "    net_model = Sequential()\n",
    "    net_model.add(Dense(30, input_dim=19, activation='relu'))\n",
    "    net_model.add(Dense(3, activation='softmax'))\n",
    "    # Compile model\n",
    "    net_model.compile(loss='categorical_crossentropy', optimizer='adam', metrics=['accuracy'])\n",
    "    return net_model"
   ]
  },
  {
   "cell_type": "code",
   "execution_count": 22,
   "metadata": {},
   "outputs": [],
   "source": [
    "estimator = KerasClassifier(build_fn=baseline_model, epochs=200, batch_size=5, verbose=0)"
   ]
  },
  {
   "cell_type": "code",
   "execution_count": 23,
   "metadata": {},
   "outputs": [],
   "source": [
    "kfold = KFold(n_splits=10, shuffle=True, random_state=seed)"
   ]
  },
  {
   "cell_type": "code",
   "execution_count": 24,
   "metadata": {},
   "outputs": [
    {
     "name": "stdout",
     "output_type": "stream",
     "text": [
      "Baseline: 59.01% (3.07%)\n"
     ]
    }
   ],
   "source": [
    "results = cross_val_score(estimator, reduced_X, dummy_y, cv=kfold)\n",
    "print(\"Baseline: %.2f%% (%.2f%%)\" % (results.mean()*100, results.std()*100))"
   ]
  },
  {
   "cell_type": "code",
   "execution_count": 27,
   "metadata": {},
   "outputs": [],
   "source": [
    "# Predicting the Test set results\n",
    "import sklearn\n",
    "estimator.fit(reduced_X,reduced_Y)\n",
    "predictions = estimator.predict(reduced_X)\n",
    "predictions = (predictions > 0.5)"
   ]
  },
  {
   "cell_type": "code",
   "execution_count": 28,
   "metadata": {},
   "outputs": [
    {
     "name": "stdout",
     "output_type": "stream",
     "text": [
      "0.5615567911040509\n",
      "              precision    recall  f1-score   support\n",
      "\n",
      "           0       0.70      0.57      0.63       477\n",
      "           1       0.50      0.89      0.64       491\n",
      "           2       0.00      0.00      0.00       291\n",
      "\n",
      "   micro avg       0.56      0.56      0.56      1259\n",
      "   macro avg       0.40      0.49      0.42      1259\n",
      "weighted avg       0.46      0.56      0.49      1259\n",
      "\n"
     ]
    },
    {
     "name": "stderr",
     "output_type": "stream",
     "text": [
      "C:\\Users\\Saad\\Anaconda3\\lib\\site-packages\\sklearn\\metrics\\classification.py:1143: UndefinedMetricWarning: Precision and F-score are ill-defined and being set to 0.0 in labels with no predicted samples.\n",
      "  'precision', 'predicted', average, warn_for)\n"
     ]
    }
   ],
   "source": [
    "from sklearn.metrics import classification_report\n",
    "from sklearn.metrics import accuracy_score\n",
    "\n",
    "print(accuracy_score(reduced_Y, predictions))\n",
    "print(classification_report(reduced_Y, predictions))"
   ]
  },
  {
   "cell_type": "code",
   "execution_count": null,
   "metadata": {},
   "outputs": [],
   "source": []
  }
 ],
 "metadata": {
  "kernelspec": {
   "display_name": "Python 3",
   "language": "python",
   "name": "python3"
  },
  "language_info": {
   "codemirror_mode": {
    "name": "ipython",
    "version": 3
   },
   "file_extension": ".py",
   "mimetype": "text/x-python",
   "name": "python",
   "nbconvert_exporter": "python",
   "pygments_lexer": "ipython3",
   "version": "3.7.1"
  }
 },
 "nbformat": 4,
 "nbformat_minor": 2
}
